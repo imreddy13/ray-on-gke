{
  "cells": [
    {
      "cell_type": "code",
      "source": [
        "pip install ray[air]==2.6.1"
      ],
      "metadata": {
        "id": "K9t35dkRLdKx",
        "outputId": "2ae14d92-cf93-480a-840c-f9ae074664a5",
        "colab": {
          "base_uri": "https://localhost:8080/"
        }
      },
      "id": "K9t35dkRLdKx",
      "execution_count": 1,
      "outputs": [
        {
          "output_type": "stream",
          "name": "stdout",
          "text": [
            "Collecting ray[air]==2.6.1\n",
            "  Downloading ray-2.6.1-cp310-cp310-manylinux2014_x86_64.whl (56.9 MB)\n",
            "\u001b[2K     \u001b[90m━━━━━━━━━━━━━━━━━━━━━━━━━━━━━━━━━━━━━━━━\u001b[0m \u001b[32m56.9/56.9 MB\u001b[0m \u001b[31m6.5 MB/s\u001b[0m eta \u001b[36m0:00:00\u001b[0m\n",
            "\u001b[?25hRequirement already satisfied: click>=7.0 in /usr/local/lib/python3.10/dist-packages (from ray[air]==2.6.1) (8.1.7)\n",
            "Requirement already satisfied: filelock in /usr/local/lib/python3.10/dist-packages (from ray[air]==2.6.1) (3.12.2)\n",
            "Requirement already satisfied: jsonschema in /usr/local/lib/python3.10/dist-packages (from ray[air]==2.6.1) (4.19.0)\n",
            "Requirement already satisfied: msgpack<2.0.0,>=1.0.0 in /usr/local/lib/python3.10/dist-packages (from ray[air]==2.6.1) (1.0.5)\n",
            "Requirement already satisfied: packaging in /usr/local/lib/python3.10/dist-packages (from ray[air]==2.6.1) (23.1)\n",
            "Requirement already satisfied: protobuf!=3.19.5,>=3.15.3 in /usr/local/lib/python3.10/dist-packages (from ray[air]==2.6.1) (3.20.3)\n",
            "Requirement already satisfied: pyyaml in /usr/local/lib/python3.10/dist-packages (from ray[air]==2.6.1) (6.0.1)\n",
            "Requirement already satisfied: aiosignal in /usr/local/lib/python3.10/dist-packages (from ray[air]==2.6.1) (1.3.1)\n",
            "Requirement already satisfied: frozenlist in /usr/local/lib/python3.10/dist-packages (from ray[air]==2.6.1) (1.4.0)\n",
            "Requirement already satisfied: requests in /usr/local/lib/python3.10/dist-packages (from ray[air]==2.6.1) (2.31.0)\n",
            "Requirement already satisfied: grpcio>=1.42.0 in /usr/local/lib/python3.10/dist-packages (from ray[air]==2.6.1) (1.57.0)\n",
            "Requirement already satisfied: numpy>=1.19.3 in /usr/local/lib/python3.10/dist-packages (from ray[air]==2.6.1) (1.23.5)\n",
            "Collecting tensorboardX>=1.9 (from ray[air]==2.6.1)\n",
            "  Downloading tensorboardX-2.6.2.2-py2.py3-none-any.whl (101 kB)\n",
            "\u001b[2K     \u001b[90m━━━━━━━━━━━━━━━━━━━━━━━━━━━━━━━━━━━━━━━\u001b[0m \u001b[32m101.7/101.7 kB\u001b[0m \u001b[31m8.4 MB/s\u001b[0m eta \u001b[36m0:00:00\u001b[0m\n",
            "\u001b[?25hCollecting pydantic<2 (from ray[air]==2.6.1)\n",
            "  Downloading pydantic-1.10.12-cp310-cp310-manylinux_2_17_x86_64.manylinux2014_x86_64.whl (3.1 MB)\n",
            "\u001b[2K     \u001b[90m━━━━━━━━━━━━━━━━━━━━━━━━━━━━━━━━━━━━━━━━\u001b[0m \u001b[32m3.1/3.1 MB\u001b[0m \u001b[31m69.5 MB/s\u001b[0m eta \u001b[36m0:00:00\u001b[0m\n",
            "\u001b[?25hCollecting fastapi (from ray[air]==2.6.1)\n",
            "  Downloading fastapi-0.103.0-py3-none-any.whl (66 kB)\n",
            "\u001b[2K     \u001b[90m━━━━━━━━━━━━━━━━━━━━━━━━━━━━━━━━━━━━━━━━\u001b[0m \u001b[32m66.2/66.2 kB\u001b[0m \u001b[31m6.7 MB/s\u001b[0m eta \u001b[36m0:00:00\u001b[0m\n",
            "\u001b[?25hCollecting py-spy>=0.2.0 (from ray[air]==2.6.1)\n",
            "  Downloading py_spy-0.3.14-py2.py3-none-manylinux_2_5_x86_64.manylinux1_x86_64.whl (3.0 MB)\n",
            "\u001b[2K     \u001b[90m━━━━━━━━━━━━━━━━━━━━━━━━━━━━━━━━━━━━━━━━\u001b[0m \u001b[32m3.0/3.0 MB\u001b[0m \u001b[31m71.2 MB/s\u001b[0m eta \u001b[36m0:00:00\u001b[0m\n",
            "\u001b[?25hRequirement already satisfied: aiohttp>=3.7 in /usr/local/lib/python3.10/dist-packages (from ray[air]==2.6.1) (3.8.5)\n",
            "Collecting aiohttp-cors (from ray[air]==2.6.1)\n",
            "  Downloading aiohttp_cors-0.7.0-py3-none-any.whl (27 kB)\n",
            "Collecting starlette (from ray[air]==2.6.1)\n",
            "  Downloading starlette-0.31.1-py3-none-any.whl (69 kB)\n",
            "\u001b[2K     \u001b[90m━━━━━━━━━━━━━━━━━━━━━━━━━━━━━━━━━━━━━━━━\u001b[0m \u001b[32m69.9/69.9 kB\u001b[0m \u001b[31m7.1 MB/s\u001b[0m eta \u001b[36m0:00:00\u001b[0m\n",
            "\u001b[?25hCollecting gpustat>=1.0.0 (from ray[air]==2.6.1)\n",
            "  Downloading gpustat-1.1.1.tar.gz (98 kB)\n",
            "\u001b[2K     \u001b[90m━━━━━━━━━━━━━━━━━━━━━━━━━━━━━━━━━━━━━━━━\u001b[0m \u001b[32m98.1/98.1 kB\u001b[0m \u001b[31m8.7 MB/s\u001b[0m eta \u001b[36m0:00:00\u001b[0m\n",
            "\u001b[?25h  Installing build dependencies ... \u001b[?25l\u001b[?25hdone\n",
            "  Getting requirements to build wheel ... \u001b[?25l\u001b[?25hdone\n",
            "  Preparing metadata (pyproject.toml) ... \u001b[?25l\u001b[?25hdone\n",
            "Collecting opencensus (from ray[air]==2.6.1)\n",
            "  Downloading opencensus-0.11.2-py2.py3-none-any.whl (128 kB)\n",
            "\u001b[2K     \u001b[90m━━━━━━━━━━━━━━━━━━━━━━━━━━━━━━━━━━━━━━\u001b[0m \u001b[32m128.2/128.2 kB\u001b[0m \u001b[31m11.6 MB/s\u001b[0m eta \u001b[36m0:00:00\u001b[0m\n",
            "\u001b[?25hCollecting colorful (from ray[air]==2.6.1)\n",
            "  Downloading colorful-0.5.5-py2.py3-none-any.whl (201 kB)\n",
            "\u001b[2K     \u001b[90m━━━━━━━━━━━━━━━━━━━━━━━━━━━━━━━━━━━━━━\u001b[0m \u001b[32m201.4/201.4 kB\u001b[0m \u001b[31m19.5 MB/s\u001b[0m eta \u001b[36m0:00:00\u001b[0m\n",
            "\u001b[?25hRequirement already satisfied: fsspec in /usr/local/lib/python3.10/dist-packages (from ray[air]==2.6.1) (2023.6.0)\n",
            "Requirement already satisfied: pandas in /usr/local/lib/python3.10/dist-packages (from ray[air]==2.6.1) (1.5.3)\n",
            "Requirement already satisfied: smart-open in /usr/local/lib/python3.10/dist-packages (from ray[air]==2.6.1) (6.3.0)\n",
            "Collecting uvicorn (from ray[air]==2.6.1)\n",
            "  Downloading uvicorn-0.23.2-py3-none-any.whl (59 kB)\n",
            "\u001b[2K     \u001b[90m━━━━━━━━━━━━━━━━━━━━━━━━━━━━━━━━━━━━━━━━\u001b[0m \u001b[32m59.5/59.5 kB\u001b[0m \u001b[31m6.5 MB/s\u001b[0m eta \u001b[36m0:00:00\u001b[0m\n",
            "\u001b[?25hRequirement already satisfied: pyarrow>=6.0.1 in /usr/local/lib/python3.10/dist-packages (from ray[air]==2.6.1) (9.0.0)\n",
            "Requirement already satisfied: prometheus-client>=0.7.1 in /usr/local/lib/python3.10/dist-packages (from ray[air]==2.6.1) (0.17.1)\n",
            "Collecting aiorwlock (from ray[air]==2.6.1)\n",
            "  Downloading aiorwlock-1.3.0-py3-none-any.whl (10.0 kB)\n",
            "Collecting virtualenv<20.21.1,>=20.0.24 (from ray[air]==2.6.1)\n",
            "  Downloading virtualenv-20.21.0-py3-none-any.whl (8.7 MB)\n",
            "\u001b[2K     \u001b[90m━━━━━━━━━━━━━━━━━━━━━━━━━━━━━━━━━━━━━━━━\u001b[0m \u001b[32m8.7/8.7 MB\u001b[0m \u001b[31m49.4 MB/s\u001b[0m eta \u001b[36m0:00:00\u001b[0m\n",
            "\u001b[?25hRequirement already satisfied: attrs>=17.3.0 in /usr/local/lib/python3.10/dist-packages (from aiohttp>=3.7->ray[air]==2.6.1) (23.1.0)\n",
            "Requirement already satisfied: charset-normalizer<4.0,>=2.0 in /usr/local/lib/python3.10/dist-packages (from aiohttp>=3.7->ray[air]==2.6.1) (3.2.0)\n",
            "Requirement already satisfied: multidict<7.0,>=4.5 in /usr/local/lib/python3.10/dist-packages (from aiohttp>=3.7->ray[air]==2.6.1) (6.0.4)\n",
            "Requirement already satisfied: async-timeout<5.0,>=4.0.0a3 in /usr/local/lib/python3.10/dist-packages (from aiohttp>=3.7->ray[air]==2.6.1) (4.0.3)\n",
            "Requirement already satisfied: yarl<2.0,>=1.0 in /usr/local/lib/python3.10/dist-packages (from aiohttp>=3.7->ray[air]==2.6.1) (1.9.2)\n",
            "Collecting nvidia-ml-py>=11.450.129 (from gpustat>=1.0.0->ray[air]==2.6.1)\n",
            "  Downloading nvidia_ml_py-12.535.108-py3-none-any.whl (36 kB)\n",
            "Requirement already satisfied: psutil>=5.6.0 in /usr/local/lib/python3.10/dist-packages (from gpustat>=1.0.0->ray[air]==2.6.1) (5.9.5)\n",
            "Collecting blessed>=1.17.1 (from gpustat>=1.0.0->ray[air]==2.6.1)\n",
            "  Downloading blessed-1.20.0-py2.py3-none-any.whl (58 kB)\n",
            "\u001b[2K     \u001b[90m━━━━━━━━━━━━━━━━━━━━━━━━━━━━━━━━━━━━━━━━\u001b[0m \u001b[32m58.4/58.4 kB\u001b[0m \u001b[31m6.0 MB/s\u001b[0m eta \u001b[36m0:00:00\u001b[0m\n",
            "\u001b[?25hRequirement already satisfied: python-dateutil>=2.8.1 in /usr/local/lib/python3.10/dist-packages (from pandas->ray[air]==2.6.1) (2.8.2)\n",
            "Requirement already satisfied: pytz>=2020.1 in /usr/local/lib/python3.10/dist-packages (from pandas->ray[air]==2.6.1) (2023.3)\n",
            "Requirement already satisfied: typing-extensions>=4.2.0 in /usr/local/lib/python3.10/dist-packages (from pydantic<2->ray[air]==2.6.1) (4.7.1)\n",
            "Collecting distlib<1,>=0.3.6 (from virtualenv<20.21.1,>=20.0.24->ray[air]==2.6.1)\n",
            "  Downloading distlib-0.3.7-py2.py3-none-any.whl (468 kB)\n",
            "\u001b[2K     \u001b[90m━━━━━━━━━━━━━━━━━━━━━━━━━━━━━━━━━━━━━━\u001b[0m \u001b[32m468.9/468.9 kB\u001b[0m \u001b[31m34.8 MB/s\u001b[0m eta \u001b[36m0:00:00\u001b[0m\n",
            "\u001b[?25hRequirement already satisfied: platformdirs<4,>=2.4 in /usr/local/lib/python3.10/dist-packages (from virtualenv<20.21.1,>=20.0.24->ray[air]==2.6.1) (3.10.0)\n",
            "Collecting starlette (from ray[air]==2.6.1)\n",
            "  Downloading starlette-0.27.0-py3-none-any.whl (66 kB)\n",
            "\u001b[2K     \u001b[90m━━━━━━━━━━━━━━━━━━━━━━━━━━━━━━━━━━━━━━━━\u001b[0m \u001b[32m67.0/67.0 kB\u001b[0m \u001b[31m7.2 MB/s\u001b[0m eta \u001b[36m0:00:00\u001b[0m\n",
            "\u001b[?25hRequirement already satisfied: anyio<5,>=3.4.0 in /usr/local/lib/python3.10/dist-packages (from starlette->ray[air]==2.6.1) (3.7.1)\n",
            "Requirement already satisfied: jsonschema-specifications>=2023.03.6 in /usr/local/lib/python3.10/dist-packages (from jsonschema->ray[air]==2.6.1) (2023.7.1)\n",
            "Requirement already satisfied: referencing>=0.28.4 in /usr/local/lib/python3.10/dist-packages (from jsonschema->ray[air]==2.6.1) (0.30.2)\n",
            "Requirement already satisfied: rpds-py>=0.7.1 in /usr/local/lib/python3.10/dist-packages (from jsonschema->ray[air]==2.6.1) (0.9.2)\n",
            "Collecting opencensus-context>=0.1.3 (from opencensus->ray[air]==2.6.1)\n",
            "  Downloading opencensus_context-0.1.3-py2.py3-none-any.whl (5.1 kB)\n",
            "Requirement already satisfied: google-api-core<3.0.0,>=1.0.0 in /usr/local/lib/python3.10/dist-packages (from opencensus->ray[air]==2.6.1) (2.11.1)\n",
            "Requirement already satisfied: idna<4,>=2.5 in /usr/local/lib/python3.10/dist-packages (from requests->ray[air]==2.6.1) (3.4)\n",
            "Requirement already satisfied: urllib3<3,>=1.21.1 in /usr/local/lib/python3.10/dist-packages (from requests->ray[air]==2.6.1) (2.0.4)\n",
            "Requirement already satisfied: certifi>=2017.4.17 in /usr/local/lib/python3.10/dist-packages (from requests->ray[air]==2.6.1) (2023.7.22)\n",
            "Collecting h11>=0.8 (from uvicorn->ray[air]==2.6.1)\n",
            "  Downloading h11-0.14.0-py3-none-any.whl (58 kB)\n",
            "\u001b[2K     \u001b[90m━━━━━━━━━━━━━━━━━━━━━━━━━━━━━━━━━━━━━━━━\u001b[0m \u001b[32m58.3/58.3 kB\u001b[0m \u001b[31m6.3 MB/s\u001b[0m eta \u001b[36m0:00:00\u001b[0m\n",
            "\u001b[?25hRequirement already satisfied: sniffio>=1.1 in /usr/local/lib/python3.10/dist-packages (from anyio<5,>=3.4.0->starlette->ray[air]==2.6.1) (1.3.0)\n",
            "Requirement already satisfied: exceptiongroup in /usr/local/lib/python3.10/dist-packages (from anyio<5,>=3.4.0->starlette->ray[air]==2.6.1) (1.1.3)\n",
            "Requirement already satisfied: wcwidth>=0.1.4 in /usr/local/lib/python3.10/dist-packages (from blessed>=1.17.1->gpustat>=1.0.0->ray[air]==2.6.1) (0.2.6)\n",
            "Requirement already satisfied: six>=1.9.0 in /usr/local/lib/python3.10/dist-packages (from blessed>=1.17.1->gpustat>=1.0.0->ray[air]==2.6.1) (1.16.0)\n",
            "Requirement already satisfied: googleapis-common-protos<2.0.dev0,>=1.56.2 in /usr/local/lib/python3.10/dist-packages (from google-api-core<3.0.0,>=1.0.0->opencensus->ray[air]==2.6.1) (1.60.0)\n",
            "Requirement already satisfied: google-auth<3.0.dev0,>=2.14.1 in /usr/local/lib/python3.10/dist-packages (from google-api-core<3.0.0,>=1.0.0->opencensus->ray[air]==2.6.1) (2.17.3)\n",
            "Requirement already satisfied: cachetools<6.0,>=2.0.0 in /usr/local/lib/python3.10/dist-packages (from google-auth<3.0.dev0,>=2.14.1->google-api-core<3.0.0,>=1.0.0->opencensus->ray[air]==2.6.1) (5.3.1)\n",
            "Requirement already satisfied: pyasn1-modules>=0.2.1 in /usr/local/lib/python3.10/dist-packages (from google-auth<3.0.dev0,>=2.14.1->google-api-core<3.0.0,>=1.0.0->opencensus->ray[air]==2.6.1) (0.3.0)\n",
            "Requirement already satisfied: rsa<5,>=3.1.4 in /usr/local/lib/python3.10/dist-packages (from google-auth<3.0.dev0,>=2.14.1->google-api-core<3.0.0,>=1.0.0->opencensus->ray[air]==2.6.1) (4.9)\n",
            "Requirement already satisfied: pyasn1<0.6.0,>=0.4.6 in /usr/local/lib/python3.10/dist-packages (from pyasn1-modules>=0.2.1->google-auth<3.0.dev0,>=2.14.1->google-api-core<3.0.0,>=1.0.0->opencensus->ray[air]==2.6.1) (0.5.0)\n",
            "Building wheels for collected packages: gpustat\n",
            "  Building wheel for gpustat (pyproject.toml) ... \u001b[?25l\u001b[?25hdone\n",
            "  Created wheel for gpustat: filename=gpustat-1.1.1-py3-none-any.whl size=26411 sha256=3b7cd907b60e787addfa6b7ef0c3214411f18c733cfc652d263194e20f6e8034\n",
            "  Stored in directory: /root/.cache/pip/wheels/ec/d7/80/a71ba3540900e1f276bcae685efd8e590c810d2108b95f1e47\n",
            "Successfully built gpustat\n",
            "Installing collected packages: py-spy, opencensus-context, nvidia-ml-py, distlib, colorful, virtualenv, tensorboardX, pydantic, h11, blessed, aiorwlock, uvicorn, starlette, gpustat, fastapi, aiohttp-cors, ray, opencensus\n",
            "  Attempting uninstall: pydantic\n",
            "    Found existing installation: pydantic 2.2.1\n",
            "    Uninstalling pydantic-2.2.1:\n",
            "      Successfully uninstalled pydantic-2.2.1\n",
            "Successfully installed aiohttp-cors-0.7.0 aiorwlock-1.3.0 blessed-1.20.0 colorful-0.5.5 distlib-0.3.7 fastapi-0.103.0 gpustat-1.1.1 h11-0.14.0 nvidia-ml-py-12.535.108 opencensus-0.11.2 opencensus-context-0.1.3 py-spy-0.3.14 pydantic-1.10.12 ray-2.6.1 starlette-0.27.0 tensorboardX-2.6.2.2 uvicorn-0.23.2 virtualenv-20.21.0\n"
          ]
        }
      ]
    },
    {
      "cell_type": "code",
      "execution_count": null,
      "id": "4a11be33-e2e5-4b0d-a5ea-728a13173151",
      "metadata": {
        "id": "4a11be33-e2e5-4b0d-a5ea-728a13173151"
      },
      "outputs": [],
      "source": [
        "import sys\n",
        "import time\n",
        "from collections import Counter\n",
        "\n",
        "import ray"
      ]
    },
    {
      "cell_type": "code",
      "execution_count": null,
      "id": "bebfa923-a38f-40ed-816b-50a8e5b4fae0",
      "metadata": {
        "id": "bebfa923-a38f-40ed-816b-50a8e5b4fae0"
      },
      "outputs": [],
      "source": [
        "@ray.remote\n",
        "def gethostname(x):\n",
        "    import platform\n",
        "    import time\n",
        "\n",
        "    time.sleep(0.01)\n",
        "    return x + (platform.node(),)\n",
        "\n",
        "\n",
        "def wait_for_nodes(expected):\n",
        "    # Wait for all nodes to join the cluster.\n",
        "    while True:\n",
        "        resources = ray.cluster_resources()\n",
        "        node_keys = [key for key in resources if \"node\" in key]\n",
        "        num_nodes = sum(resources[node_key] for node_key in node_keys)\n",
        "        if num_nodes < expected:\n",
        "            print(\n",
        "                \"{} nodes have joined so far, waiting for {} more.\".format(\n",
        "                    num_nodes, expected - num_nodes\n",
        "                )\n",
        "            )\n",
        "            sys.stdout.flush()\n",
        "            time.sleep(1)\n",
        "        else:\n",
        "            break\n",
        "\n",
        "\n",
        "def main():\n",
        "    wait_for_nodes(2)\n",
        "\n",
        "    # Check that objects can be transferred from each node to each other node.\n",
        "    for i in range(10):\n",
        "        print(\"Iteration {}\".format(i))\n",
        "        results = [gethostname.remote(gethostname.remote(())) for _ in range(100)]\n",
        "        print(Counter(ray.get(results)))\n",
        "        sys.stdout.flush()\n",
        "\n",
        "    print(\"Success!\")\n",
        "    sys.stdout.flush()"
      ]
    },
    {
      "cell_type": "code",
      "execution_count": null,
      "id": "48962575-a112-4737-bb10-c75f43fdee79",
      "metadata": {
        "id": "48962575-a112-4737-bb10-c75f43fdee79",
        "outputId": "098814da-cc47-4d30-dc8d-1fdbde083d8d"
      },
      "outputs": [
        {
          "data": {
            "text/html": [
              "<div>\n",
              "    <div style=\"margin-left: 50px;display: flex;flex-direction: row;align-items: center\">\n",
              "        <h3 style=\"color: var(--jp-ui-font-color0)\">Ray</h3>\n",
              "        <svg version=\"1.1\" id=\"ray\" width=\"3em\" viewBox=\"0 0 144.5 144.6\" style=\"margin-left: 3em;margin-right: 3em\">\n",
              "            <g id=\"layer-1\">\n",
              "                <path fill=\"#00a2e9\" class=\"st0\" d=\"M97.3,77.2c-3.8-1.1-6.2,0.9-8.3,5.1c-3.5,6.8-9.9,9.9-17.4,9.6S58,88.1,54.8,81.2c-1.4-3-3-4-6.3-4.1\n",
              "                    c-5.6-0.1-9.9,0.1-13.1,6.4c-3.8,7.6-13.6,10.2-21.8,7.6C5.2,88.4-0.4,80.5,0,71.7c0.1-8.4,5.7-15.8,13.8-18.2\n",
              "                    c8.4-2.6,17.5,0.7,22.3,8c1.3,1.9,1.3,5.2,3.6,5.6c3.9,0.6,8,0.2,12,0.2c1.8,0,1.9-1.6,2.4-2.8c3.5-7.8,9.7-11.8,18-11.9\n",
              "                    c8.2-0.1,14.4,3.9,17.8,11.4c1.3,2.8,2.9,3.6,5.7,3.3c1-0.1,2,0.1,3,0c2.8-0.5,6.4,1.7,8.1-2.7s-2.3-5.5-4.1-7.5\n",
              "                    c-5.1-5.7-10.9-10.8-16.1-16.3C84,38,81.9,37.1,78,38.3C66.7,42,56.2,35.7,53,24.1C50.3,14,57.3,2.8,67.7,0.5\n",
              "                    C78.4-2,89,4.7,91.5,15.3c0.1,0.3,0.1,0.5,0.2,0.8c0.7,3.4,0.7,6.9-0.8,9.8c-1.7,3.2-0.8,5,1.5,7.2c6.7,6.5,13.3,13,19.8,19.7\n",
              "                    c1.8,1.8,3,2.1,5.5,1.2c9.1-3.4,17.9-0.6,23.4,7c4.8,6.9,4.6,16.1-0.4,22.9c-5.4,7.2-14.2,9.9-23.1,6.5c-2.3-0.9-3.5-0.6-5.1,1.1\n",
              "                    c-6.7,6.9-13.6,13.7-20.5,20.4c-1.8,1.8-2.5,3.2-1.4,5.9c3.5,8.7,0.3,18.6-7.7,23.6c-7.9,5-18.2,3.8-24.8-2.9\n",
              "                    c-6.4-6.4-7.4-16.2-2.5-24.3c4.9-7.8,14.5-11,23.1-7.8c3,1.1,4.7,0.5,6.9-1.7C91.7,98.4,98,92.3,104.2,86c1.6-1.6,4.1-2.7,2.6-6.2\n",
              "                    c-1.4-3.3-3.8-2.5-6.2-2.6C99.8,77.2,98.9,77.2,97.3,77.2z M72.1,29.7c5.5,0.1,9.9-4.3,10-9.8c0-0.1,0-0.2,0-0.3\n",
              "                    C81.8,14,77,9.8,71.5,10.2c-5,0.3-9,4.2-9.3,9.2c-0.2,5.5,4,10.1,9.5,10.3C71.8,29.7,72,29.7,72.1,29.7z M72.3,62.3\n",
              "                    c-5.4-0.1-9.9,4.2-10.1,9.7c0,0.2,0,0.3,0,0.5c0.2,5.4,4.5,9.7,9.9,10c5.1,0.1,9.9-4.7,10.1-9.8c0.2-5.5-4-10-9.5-10.3\n",
              "                    C72.6,62.3,72.4,62.3,72.3,62.3z M115,72.5c0.1,5.4,4.5,9.7,9.8,9.9c5.6-0.2,10-4.8,10-10.4c-0.2-5.4-4.6-9.7-10-9.7\n",
              "                    c-5.3-0.1-9.8,4.2-9.9,9.5C115,72.1,115,72.3,115,72.5z M19.5,62.3c-5.4,0.1-9.8,4.4-10,9.8c-0.1,5.1,5.2,10.4,10.2,10.3\n",
              "                    c5.6-0.2,10-4.9,9.8-10.5c-0.1-5.4-4.5-9.7-9.9-9.6C19.6,62.3,19.5,62.3,19.5,62.3z M71.8,134.6c5.9,0.2,10.3-3.9,10.4-9.6\n",
              "                    c0.5-5.5-3.6-10.4-9.1-10.8c-5.5-0.5-10.4,3.6-10.8,9.1c0,0.5,0,0.9,0,1.4c-0.2,5.3,4,9.8,9.3,10\n",
              "                    C71.6,134.6,71.7,134.6,71.8,134.6z\"/>\n",
              "            </g>\n",
              "        </svg>\n",
              "        <table>\n",
              "            <tr>\n",
              "                <td style=\"text-align: left\"><b>Python version:</b></td>\n",
              "                <td style=\"text-align: left\"><b>3.9.12</b></td>\n",
              "            </tr>\n",
              "            <tr>\n",
              "                <td style=\"text-align: left\"><b>Ray version:</b></td>\n",
              "                <td style=\"text-align: left\"><b> 2.2.0</b></td>\n",
              "            </tr>\n",
              "            <tr>\n",
              "    <td style=\"text-align: left\"><b>Dashboard:</b></td>\n",
              "    <td style=\"text-align: left\"><b><a href=\"http://10.8.8.11:8265\" target=\"_blank\">http://10.8.8.11:8265</a></b></td>\n",
              "</tr>\n",
              "\n",
              "        </table>\n",
              "    </div>\n",
              "</div>\n"
            ],
            "text/plain": [
              "ClientContext(dashboard_url='10.8.8.11:8265', python_version='3.9.12', ray_version='2.2.0', ray_commit='b6af0887ee5f2e460202133791ad941a41f15beb', protocol_version='2022-10-05', _num_clients=1, _context_to_restore=<ray.util.client._ClientContext object at 0x7fb224107f10>)"
            ]
          },
          "execution_count": 3,
          "metadata": {},
          "output_type": "execute_result"
        }
      ],
      "source": [
        "ray.init(\"ray://example-cluster-kuberay-head-svc:10001\")"
      ]
    },
    {
      "cell_type": "code",
      "execution_count": null,
      "id": "e634c246-5aa6-42ba-bc29-468377b95b7c",
      "metadata": {
        "id": "e634c246-5aa6-42ba-bc29-468377b95b7c",
        "outputId": "ce596f43-369c-4eec-83ef-ffe228a1c723"
      },
      "outputs": [
        {
          "name": "stdout",
          "output_type": "stream",
          "text": [
            "Iteration 0\n",
            "Counter({('example-cluster-kuberay-worker-workergroup-9bnxn', 'example-cluster-kuberay-worker-workergroup-9bnxn'): 38, ('example-cluster-kuberay-worker-workergroup-9bnxn', 'example-cluster-kuberay-head-fd9g6'): 27, ('example-cluster-kuberay-head-fd9g6', 'example-cluster-kuberay-head-fd9g6'): 26, ('example-cluster-kuberay-head-fd9g6', 'example-cluster-kuberay-worker-workergroup-9bnxn'): 9})\n",
            "Iteration 1\n",
            "Counter({('example-cluster-kuberay-head-fd9g6', 'example-cluster-kuberay-head-fd9g6'): 31, ('example-cluster-kuberay-worker-workergroup-9bnxn', 'example-cluster-kuberay-worker-workergroup-9bnxn'): 26, ('example-cluster-kuberay-head-fd9g6', 'example-cluster-kuberay-worker-workergroup-9bnxn'): 23, ('example-cluster-kuberay-worker-workergroup-9bnxn', 'example-cluster-kuberay-head-fd9g6'): 20})\n",
            "Iteration 2\n",
            "Counter({('example-cluster-kuberay-head-fd9g6', 'example-cluster-kuberay-head-fd9g6'): 33, ('example-cluster-kuberay-worker-workergroup-9bnxn', 'example-cluster-kuberay-worker-workergroup-9bnxn'): 25, ('example-cluster-kuberay-worker-workergroup-9bnxn', 'example-cluster-kuberay-head-fd9g6'): 22, ('example-cluster-kuberay-head-fd9g6', 'example-cluster-kuberay-worker-workergroup-9bnxn'): 20})\n",
            "Iteration 3\n",
            "Counter({('example-cluster-kuberay-head-fd9g6', 'example-cluster-kuberay-head-fd9g6'): 32, ('example-cluster-kuberay-worker-workergroup-9bnxn', 'example-cluster-kuberay-head-fd9g6'): 26, ('example-cluster-kuberay-head-fd9g6', 'example-cluster-kuberay-worker-workergroup-9bnxn'): 23, ('example-cluster-kuberay-worker-workergroup-9bnxn', 'example-cluster-kuberay-worker-workergroup-9bnxn'): 19})\n",
            "Iteration 4\n",
            "Counter({('example-cluster-kuberay-head-fd9g6', 'example-cluster-kuberay-head-fd9g6'): 30, ('example-cluster-kuberay-worker-workergroup-9bnxn', 'example-cluster-kuberay-head-fd9g6'): 27, ('example-cluster-kuberay-worker-workergroup-9bnxn', 'example-cluster-kuberay-worker-workergroup-9bnxn'): 23, ('example-cluster-kuberay-head-fd9g6', 'example-cluster-kuberay-worker-workergroup-9bnxn'): 20})\n",
            "Iteration 5\n",
            "Counter({('example-cluster-kuberay-head-fd9g6', 'example-cluster-kuberay-head-fd9g6'): 41, ('example-cluster-kuberay-worker-workergroup-9bnxn', 'example-cluster-kuberay-worker-workergroup-9bnxn'): 32, ('example-cluster-kuberay-worker-workergroup-9bnxn', 'example-cluster-kuberay-head-fd9g6'): 15, ('example-cluster-kuberay-head-fd9g6', 'example-cluster-kuberay-worker-workergroup-9bnxn'): 12})\n",
            "Iteration 6\n",
            "Counter({('example-cluster-kuberay-head-fd9g6', 'example-cluster-kuberay-head-fd9g6'): 30, ('example-cluster-kuberay-head-fd9g6', 'example-cluster-kuberay-worker-workergroup-9bnxn'): 28, ('example-cluster-kuberay-worker-workergroup-9bnxn', 'example-cluster-kuberay-worker-workergroup-9bnxn'): 21, ('example-cluster-kuberay-worker-workergroup-9bnxn', 'example-cluster-kuberay-head-fd9g6'): 21})\n",
            "Iteration 7\n",
            "Counter({('example-cluster-kuberay-head-fd9g6', 'example-cluster-kuberay-head-fd9g6'): 33, ('example-cluster-kuberay-worker-workergroup-9bnxn', 'example-cluster-kuberay-head-fd9g6'): 24, ('example-cluster-kuberay-worker-workergroup-9bnxn', 'example-cluster-kuberay-worker-workergroup-9bnxn'): 23, ('example-cluster-kuberay-head-fd9g6', 'example-cluster-kuberay-worker-workergroup-9bnxn'): 20})\n",
            "Iteration 8\n",
            "Counter({('example-cluster-kuberay-head-fd9g6', 'example-cluster-kuberay-head-fd9g6'): 38, ('example-cluster-kuberay-worker-workergroup-9bnxn', 'example-cluster-kuberay-worker-workergroup-9bnxn'): 29, ('example-cluster-kuberay-head-fd9g6', 'example-cluster-kuberay-worker-workergroup-9bnxn'): 18, ('example-cluster-kuberay-worker-workergroup-9bnxn', 'example-cluster-kuberay-head-fd9g6'): 15})\n",
            "Iteration 9\n",
            "Counter({('example-cluster-kuberay-head-fd9g6', 'example-cluster-kuberay-head-fd9g6'): 28, ('example-cluster-kuberay-worker-workergroup-9bnxn', 'example-cluster-kuberay-head-fd9g6'): 27, ('example-cluster-kuberay-head-fd9g6', 'example-cluster-kuberay-worker-workergroup-9bnxn'): 26, ('example-cluster-kuberay-worker-workergroup-9bnxn', 'example-cluster-kuberay-worker-workergroup-9bnxn'): 19})\n",
            "Success!\n"
          ]
        }
      ],
      "source": [
        "main()"
      ]
    },
    {
      "cell_type": "code",
      "execution_count": null,
      "id": "f563c639-2c49-451d-bf2c-bf1a4744763c",
      "metadata": {
        "id": "f563c639-2c49-451d-bf2c-bf1a4744763c"
      },
      "outputs": [],
      "source": []
    }
  ],
  "metadata": {
    "kernelspec": {
      "display_name": "Python 3 (ipykernel)",
      "language": "python",
      "name": "python3"
    },
    "language_info": {
      "codemirror_mode": {
        "name": "ipython",
        "version": 3
      },
      "file_extension": ".py",
      "mimetype": "text/x-python",
      "name": "python",
      "nbconvert_exporter": "python",
      "pygments_lexer": "ipython3",
      "version": "3.9.14"
    },
    "colab": {
      "provenance": []
    }
  },
  "nbformat": 4,
  "nbformat_minor": 5
}